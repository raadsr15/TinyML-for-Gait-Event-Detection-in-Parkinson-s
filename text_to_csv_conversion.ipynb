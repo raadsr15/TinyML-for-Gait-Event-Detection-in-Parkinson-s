{
 "cells": [
  {
   "cell_type": "code",
   "execution_count": 1,
   "id": "4f72a868",
   "metadata": {},
   "outputs": [
    {
     "name": "stderr",
     "output_type": "stream",
     "text": [
      "C:\\Users\\User\\AppData\\Local\\Temp\\ipykernel_22396\\2368456110.py:26: FutureWarning: The 'delim_whitespace' keyword in pd.read_csv is deprecated and will be removed in a future version. Use ``sep='\\s+'`` instead\n",
      "  df = pd.read_csv(input_path, delim_whitespace=True, header=None, names=columns)\n"
     ]
    },
    {
     "name": "stdout",
     "output_type": "stream",
     "text": [
      "✅ Converted S01R01.txt to S01R01.csv\n",
      "✅ Converted S01R02.txt to S01R02.csv\n"
     ]
    },
    {
     "name": "stderr",
     "output_type": "stream",
     "text": [
      "C:\\Users\\User\\AppData\\Local\\Temp\\ipykernel_22396\\2368456110.py:26: FutureWarning: The 'delim_whitespace' keyword in pd.read_csv is deprecated and will be removed in a future version. Use ``sep='\\s+'`` instead\n",
      "  df = pd.read_csv(input_path, delim_whitespace=True, header=None, names=columns)\n",
      "C:\\Users\\User\\AppData\\Local\\Temp\\ipykernel_22396\\2368456110.py:26: FutureWarning: The 'delim_whitespace' keyword in pd.read_csv is deprecated and will be removed in a future version. Use ``sep='\\s+'`` instead\n",
      "  df = pd.read_csv(input_path, delim_whitespace=True, header=None, names=columns)\n"
     ]
    },
    {
     "name": "stdout",
     "output_type": "stream",
     "text": [
      "✅ Converted S02R01.txt to S02R01.csv\n"
     ]
    },
    {
     "name": "stderr",
     "output_type": "stream",
     "text": [
      "C:\\Users\\User\\AppData\\Local\\Temp\\ipykernel_22396\\2368456110.py:26: FutureWarning: The 'delim_whitespace' keyword in pd.read_csv is deprecated and will be removed in a future version. Use ``sep='\\s+'`` instead\n",
      "  df = pd.read_csv(input_path, delim_whitespace=True, header=None, names=columns)\n"
     ]
    },
    {
     "name": "stdout",
     "output_type": "stream",
     "text": [
      "✅ Converted S02R02.txt to S02R02.csv\n"
     ]
    },
    {
     "name": "stderr",
     "output_type": "stream",
     "text": [
      "C:\\Users\\User\\AppData\\Local\\Temp\\ipykernel_22396\\2368456110.py:26: FutureWarning: The 'delim_whitespace' keyword in pd.read_csv is deprecated and will be removed in a future version. Use ``sep='\\s+'`` instead\n",
      "  df = pd.read_csv(input_path, delim_whitespace=True, header=None, names=columns)\n"
     ]
    },
    {
     "name": "stdout",
     "output_type": "stream",
     "text": [
      "✅ Converted S03R01.txt to S03R01.csv\n",
      "✅ Converted S03R02.txt to S03R02.csv\n"
     ]
    },
    {
     "name": "stderr",
     "output_type": "stream",
     "text": [
      "C:\\Users\\User\\AppData\\Local\\Temp\\ipykernel_22396\\2368456110.py:26: FutureWarning: The 'delim_whitespace' keyword in pd.read_csv is deprecated and will be removed in a future version. Use ``sep='\\s+'`` instead\n",
      "  df = pd.read_csv(input_path, delim_whitespace=True, header=None, names=columns)\n",
      "C:\\Users\\User\\AppData\\Local\\Temp\\ipykernel_22396\\2368456110.py:26: FutureWarning: The 'delim_whitespace' keyword in pd.read_csv is deprecated and will be removed in a future version. Use ``sep='\\s+'`` instead\n",
      "  df = pd.read_csv(input_path, delim_whitespace=True, header=None, names=columns)\n"
     ]
    },
    {
     "name": "stdout",
     "output_type": "stream",
     "text": [
      "✅ Converted S03R03.txt to S03R03.csv\n"
     ]
    },
    {
     "name": "stderr",
     "output_type": "stream",
     "text": [
      "C:\\Users\\User\\AppData\\Local\\Temp\\ipykernel_22396\\2368456110.py:26: FutureWarning: The 'delim_whitespace' keyword in pd.read_csv is deprecated and will be removed in a future version. Use ``sep='\\s+'`` instead\n",
      "  df = pd.read_csv(input_path, delim_whitespace=True, header=None, names=columns)\n"
     ]
    },
    {
     "name": "stdout",
     "output_type": "stream",
     "text": [
      "✅ Converted S04R01.txt to S04R01.csv\n"
     ]
    },
    {
     "name": "stderr",
     "output_type": "stream",
     "text": [
      "C:\\Users\\User\\AppData\\Local\\Temp\\ipykernel_22396\\2368456110.py:26: FutureWarning: The 'delim_whitespace' keyword in pd.read_csv is deprecated and will be removed in a future version. Use ``sep='\\s+'`` instead\n",
      "  df = pd.read_csv(input_path, delim_whitespace=True, header=None, names=columns)\n"
     ]
    },
    {
     "name": "stdout",
     "output_type": "stream",
     "text": [
      "✅ Converted S05R01.txt to S05R01.csv\n"
     ]
    },
    {
     "name": "stderr",
     "output_type": "stream",
     "text": [
      "C:\\Users\\User\\AppData\\Local\\Temp\\ipykernel_22396\\2368456110.py:26: FutureWarning: The 'delim_whitespace' keyword in pd.read_csv is deprecated and will be removed in a future version. Use ``sep='\\s+'`` instead\n",
      "  df = pd.read_csv(input_path, delim_whitespace=True, header=None, names=columns)\n"
     ]
    },
    {
     "name": "stdout",
     "output_type": "stream",
     "text": [
      "✅ Converted S05R02.txt to S05R02.csv\n"
     ]
    },
    {
     "name": "stderr",
     "output_type": "stream",
     "text": [
      "C:\\Users\\User\\AppData\\Local\\Temp\\ipykernel_22396\\2368456110.py:26: FutureWarning: The 'delim_whitespace' keyword in pd.read_csv is deprecated and will be removed in a future version. Use ``sep='\\s+'`` instead\n",
      "  df = pd.read_csv(input_path, delim_whitespace=True, header=None, names=columns)\n"
     ]
    },
    {
     "name": "stdout",
     "output_type": "stream",
     "text": [
      "✅ Converted S06R01.txt to S06R01.csv\n",
      "✅ Converted S06R02.txt to S06R02.csv\n"
     ]
    },
    {
     "name": "stderr",
     "output_type": "stream",
     "text": [
      "C:\\Users\\User\\AppData\\Local\\Temp\\ipykernel_22396\\2368456110.py:26: FutureWarning: The 'delim_whitespace' keyword in pd.read_csv is deprecated and will be removed in a future version. Use ``sep='\\s+'`` instead\n",
      "  df = pd.read_csv(input_path, delim_whitespace=True, header=None, names=columns)\n",
      "C:\\Users\\User\\AppData\\Local\\Temp\\ipykernel_22396\\2368456110.py:26: FutureWarning: The 'delim_whitespace' keyword in pd.read_csv is deprecated and will be removed in a future version. Use ``sep='\\s+'`` instead\n",
      "  df = pd.read_csv(input_path, delim_whitespace=True, header=None, names=columns)\n"
     ]
    },
    {
     "name": "stdout",
     "output_type": "stream",
     "text": [
      "✅ Converted S07R01.txt to S07R01.csv\n",
      "✅ Converted S07R02.txt to S07R02.csv\n"
     ]
    },
    {
     "name": "stderr",
     "output_type": "stream",
     "text": [
      "C:\\Users\\User\\AppData\\Local\\Temp\\ipykernel_22396\\2368456110.py:26: FutureWarning: The 'delim_whitespace' keyword in pd.read_csv is deprecated and will be removed in a future version. Use ``sep='\\s+'`` instead\n",
      "  df = pd.read_csv(input_path, delim_whitespace=True, header=None, names=columns)\n",
      "C:\\Users\\User\\AppData\\Local\\Temp\\ipykernel_22396\\2368456110.py:26: FutureWarning: The 'delim_whitespace' keyword in pd.read_csv is deprecated and will be removed in a future version. Use ``sep='\\s+'`` instead\n",
      "  df = pd.read_csv(input_path, delim_whitespace=True, header=None, names=columns)\n"
     ]
    },
    {
     "name": "stdout",
     "output_type": "stream",
     "text": [
      "✅ Converted S08R01.txt to S08R01.csv\n"
     ]
    },
    {
     "name": "stderr",
     "output_type": "stream",
     "text": [
      "C:\\Users\\User\\AppData\\Local\\Temp\\ipykernel_22396\\2368456110.py:26: FutureWarning: The 'delim_whitespace' keyword in pd.read_csv is deprecated and will be removed in a future version. Use ``sep='\\s+'`` instead\n",
      "  df = pd.read_csv(input_path, delim_whitespace=True, header=None, names=columns)\n"
     ]
    },
    {
     "name": "stdout",
     "output_type": "stream",
     "text": [
      "✅ Converted S09R01.txt to S09R01.csv\n"
     ]
    },
    {
     "name": "stderr",
     "output_type": "stream",
     "text": [
      "C:\\Users\\User\\AppData\\Local\\Temp\\ipykernel_22396\\2368456110.py:26: FutureWarning: The 'delim_whitespace' keyword in pd.read_csv is deprecated and will be removed in a future version. Use ``sep='\\s+'`` instead\n",
      "  df = pd.read_csv(input_path, delim_whitespace=True, header=None, names=columns)\n"
     ]
    },
    {
     "name": "stdout",
     "output_type": "stream",
     "text": [
      "✅ Converted S10R01.txt to S10R01.csv\n"
     ]
    }
   ],
   "source": [
    "import os\n",
    "import pandas as pd\n",
    "\n",
    "# === CONFIG ===\n",
    "input_folder = r\"G:\\Machine Learning\\Parkinsons\\CSV-Generation_dataset_fog_release\\dataset\"  # Change to your dataset folder path\n",
    "output_folder = r\"G:\\Machine Learning\\Parkinsons\\CSV-Generation_dataset_fog_release\\csv_converted_files\\all\"  # Folder to store .csv files\n",
    "os.makedirs(output_folder, exist_ok=True)\n",
    "\n",
    "# === Column headers as per README ===\n",
    "columns = [\n",
    "    \"timestamp\", \n",
    "    \"ankle_x\", \"ankle_y\", \"ankle_z\",\n",
    "    \"thigh_x\", \"thigh_y\", \"thigh_z\",\n",
    "    \"trunk_x\", \"trunk_y\", \"trunk_z\",\n",
    "    \"label\"\n",
    "]\n",
    "\n",
    "# === Loop through all .txt files and convert ===\n",
    "for filename in os.listdir(input_folder):\n",
    "    if filename.endswith(\".txt\") and filename.startswith(\"S\"):\n",
    "        input_path = os.path.join(input_folder, filename)\n",
    "        output_filename = filename.replace(\".txt\", \".csv\")\n",
    "        output_path = os.path.join(output_folder, output_filename)\n",
    "\n",
    "        try:\n",
    "            df = pd.read_csv(input_path, delim_whitespace=True, header=None, names=columns)\n",
    "            df.to_csv(output_path, index=False)\n",
    "            print(f\"✅ Converted {filename} to {output_filename}\")\n",
    "        except Exception as e:\n",
    "            print(f\"❌ Failed to convert {filename}: {e}\")"
   ]
  }
 ],
 "metadata": {
  "kernelspec": {
   "display_name": "test",
   "language": "python",
   "name": "python3"
  },
  "language_info": {
   "codemirror_mode": {
    "name": "ipython",
    "version": 3
   },
   "file_extension": ".py",
   "mimetype": "text/x-python",
   "name": "python",
   "nbconvert_exporter": "python",
   "pygments_lexer": "ipython3",
   "version": "3.12.3"
  }
 },
 "nbformat": 4,
 "nbformat_minor": 5
}
